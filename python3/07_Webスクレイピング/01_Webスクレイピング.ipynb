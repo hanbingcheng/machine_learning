{
 "cells": [
  {
   "cell_type": "markdown",
   "metadata": {},
   "source": [
    "# PythonでWebスクレイピング"
   ]
  },
  {
   "cell_type": "markdown",
   "metadata": {},
   "source": [
    "##### Web上のデータを、取得して、その構造を理解し、pandasのDataFrameにします。\n",
    "\n",
    "#### いくつか注意すべき事項を並べておきます。\n",
    "\n",
    "1.) Web上のデータだからと言って、勝手に利用していいとは限りませんので、利用する前に確認しておきましょう。\n",
    "\n",
    "2.) プログラムで連続的にサーバに負荷をかけると、先方にブロックされて接続できなくなる危険性もありますので、注意しましょう。\n",
    "\n",
    "3.) Webサイトのデザインが変わることは、日常茶飯ですので、時間が経ったら、コードを見直す必要があるかも知れません。\n",
    "\n",
    "4.) Webページは、データの取得用に作られていませんので、取得したデータをクレンジングする（エラーなどを取り除いて整形する作業）する必要は大いにあります。\n",
    "\n",
    "5.) というわけで、やはりWebページごとにコードを書いてデータ取得の方法をカスタマイズする必要はあります。\n",
    "\n",
    "#### やはりHTMLについて知っておく必要はあります\n",
    "\n",
    "書籍を使ってしっかり学ぶのが良いかと思いますが、以下の様なサイトも参考になると思います。\n",
    "\n",
    "[HTMLクイックリファレンス](http://www.htmq.com/)\n",
    "\n",
    "[W3School(英語)](http://www.w3schools.com/html/)\n",
    "\n",
    "#### 準備\n",
    "\n",
    "それぞれ、Webスクレイピングのために必要なモジュールです。セットアップされていない場合は、インストールして使えるようにしておきましょう。\n",
    "\n",
    "1.) BeautifulSoup<br>\n",
    "http://www.crummy.com/software/BeautifulSoup/bs4/doc/<br>\n",
    "OSのコマンドプロンプト（ターミナル）で、<br>\n",
    "pip install beautifulsoup4<br>\n",
    "またはAnacondaを利用している場合<br>\n",
    "conda install beautifulsoup4<br>\n",
    "\n",
    "2.) lxml<br>\n",
    "http://lxml.de/<br>\n",
    "pip install lxml<br>\n",
    "または<br>\n",
    "conda install lxml<br>\n",
    "\n",
    "3.) requests<br>\n",
    "http://docs.python-requests.org/en/latest/<br>\n",
    "pip install requests<br>\n",
    "または<br>\n",
    "conda install requests<br>"
   ]
  },
  {
   "cell_type": "code",
   "execution_count": 1,
   "metadata": {},
   "outputs": [],
   "source": [
    "from bs4 import BeautifulSoup\n",
    "import requests"
   ]
  },
  {
   "cell_type": "code",
   "execution_count": 2,
   "metadata": {
    "collapsed": true
   },
   "outputs": [],
   "source": [
    "import pandas as pd\n",
    "from pandas import Series,DataFrame"
   ]
  },
  {
   "cell_type": "markdown",
   "metadata": {},
   "source": [
    "サンプルデータは何でも良いんですが、ここではカリフォルニア大学のページから、予算に関する報告書のページを扱ってみます。もちろん他のページも良いですが、データの利用については、注意してください。"
   ]
  },
  {
   "cell_type": "markdown",
   "metadata": {},
   "source": [
    "今回取得するデータのURLです。"
   ]
  },
  {
   "cell_type": "code",
   "execution_count": 3,
   "metadata": {},
   "outputs": [],
   "source": [
    "url = 'http://www.ucop.edu/operating-budget/budgets-and-reports/legislative-reports/2013-14-legislative-session.html'"
   ]
  },
  {
   "cell_type": "markdown",
   "metadata": {},
   "source": [
    "requestsでデータをとってきて、BeautifulSoupで中身を解析します。"
   ]
  },
  {
   "cell_type": "code",
   "execution_count": 5,
   "metadata": {},
   "outputs": [],
   "source": [
    "# データを取得\n",
    "result = requests.get(url)\n",
    "c = result.content\n",
    "\n",
    "# HTMLをもとに、オブジェクトを作る\n",
    "soup = BeautifulSoup(c, \"lxml\")"
   ]
  },
  {
   "cell_type": "markdown",
   "metadata": {},
   "source": [
    "Beautiful Soupを使って、HTMLを扱う準備が出来ました。"
   ]
  },
  {
   "cell_type": "code",
   "execution_count": 6,
   "metadata": {},
   "outputs": [],
   "source": [
    "# 目的の部分を切り出します。\n",
    "summary = soup.find(\"div\",{'class':'list-land','id':'content'})\n",
    "\n",
    "# tableを見つけます。\n",
    "tables = summary.find_all('table')"
   ]
  },
  {
   "cell_type": "markdown",
   "metadata": {},
   "source": [
    "<hr>"
   ]
  },
  {
   "cell_type": "markdown",
   "metadata": {},
   "source": [
    "通常、HTMLのテーブルでは、trタグで1行を表現し、tdタグでその中にいくつか列を作っていくイメージです。\n",
    "\n",
    "ですので、trを見つけて、その中からtdを探し出します。\n",
    "\n",
    "ここで紹介するのは、Beautiful Soupのごくごく一部の機能です。詳しく知りたい方は[ドキュメントを参照してください。](http://www.crummy.com/software/BeautifulSoup/bs4/doc/#find-all)."
   ]
  },
  {
   "cell_type": "code",
   "execution_count": 7,
   "metadata": {
    "scrolled": true
   },
   "outputs": [
    {
     "name": "stdout",
     "output_type": "stream",
     "text": [
      "1\n",
      "08/01/13\n",
      "2013-14 (EDU 92495) Proposed Capital Outlay Projects (2013-14 only) (pdf)\n",
      "2\n",
      "09/01/13\n",
      "2014-15  (EDU 92495) Proposed Capital Outlay Projects (pdf)\n",
      "3\n",
      "11/01/13\n",
      "Utilization of Classroom and Teaching Laboratories (pdf)\n",
      "4\n",
      "11/01/13\n",
      "Instruction and Research Space Summary & Analysis (pdf)\n",
      "5\n",
      "11/15/13\n",
      "Statewide Energy Partnership Program (pdf)\n",
      "6\n",
      "11/30/13\n",
      "2013-23 Capital Financial Plan (pdf)\n",
      "7\n",
      "11/30/13\n",
      "Projects Savings Funded from Capital Outlay Bond Funds (pdf)\n",
      "8\n",
      "12/01/13\n",
      "Streamlined Capital Projects Funded from Capital (pdf)\n",
      "9\n",
      "01/01/14\n",
      "Annual General Obligation Bonds Accountability (pdf)\n",
      "10\n",
      "01/01/14\n",
      "Small Business Utilization (pdf)\n",
      "11\n",
      "01/01/14\n",
      "Institutional Financial Aid Programs - Preliminary report (pdf)\n",
      "12\n",
      "01/10/14\n",
      "Summer Enrollment (pdf)\n",
      "13\n",
      "01/15/14\n",
      "Contracting Out for Services at Newly Developed Facilities (pdf)\n",
      "14\n",
      "03/01/14\n",
      "Performance Measures (pdf)\n",
      "15\n",
      "03/01/14\n",
      "Entry Level Writing Requirement (pdf)\n",
      "16\n",
      "03/31/14\n",
      "Annual Report on Student Financial Support (pdf)\n",
      "17\n",
      "04/01/14\n",
      "Unique Statewide Pupil Identifier (pdf)\n",
      "18\n",
      "04/01/14\n",
      "Riverside School of Medicine (pdf)\n",
      "19\n",
      "04/01/14\n",
      "SAPEP Funds and Outcomes - N/A\n",
      "20\n",
      "05/15/14\n",
      "Receipt and Use of Lottery Funds (pdf)\n",
      "21\n",
      "07/01/14\n",
      "Cogeneration and Energy Consv Major Capital Projects (pdf)\n",
      "\n",
      "\n",
      "\n",
      "\n",
      "\n",
      "\n",
      " \n",
      "Future Reports\n",
      "\n",
      "\n",
      "24\n",
      "12-\n",
      "Breast Cancer Research Fund\n",
      "25\n",
      "12-31-15\n",
      "Cigarette and Tobacco Products Surtax Research Program\n",
      "26\n",
      "01-01-16\n",
      "Best Value Program\n",
      "27\n",
      "01-01-16\n",
      "California Subject Matter Programs\n",
      "28\n",
      "04-01-16\n",
      "COSMOS Program Outcomes\n"
     ]
    }
   ],
   "source": [
    "# データを格納するためのリストです。\n",
    "data = []\n",
    "\n",
    "# テーブルから行をすべて探し出します。\n",
    "rows = tables[0].find_all('tr')\n",
    "\n",
    "# 行から、それぞれのcellを取り出して画面に表示しつつ、dataに格納します。\n",
    "for tr in rows:\n",
    "    cols = tr.find_all('td')\n",
    "    # textを探し出します。\n",
    "    for td in cols:\n",
    "        text = td.find(text=True) \n",
    "        print(text)\n",
    "        data.append(text)    "
   ]
  },
  {
   "cell_type": "markdown",
   "metadata": {},
   "source": [
    "おなじくdataにも入っています。"
   ]
  },
  {
   "cell_type": "code",
   "execution_count": 10,
   "metadata": {
    "scrolled": true
   },
   "outputs": [
    {
     "data": {
      "text/plain": [
       "['1',\n",
       " '08/01/13',\n",
       " '2013-14 (EDU 92495) Proposed Capital Outlay Projects (2013-14 only) (pdf)',\n",
       " '2',\n",
       " '09/01/13',\n",
       " '2014-15\\xa0 (EDU 92495) Proposed Capital Outlay Projects (pdf)',\n",
       " '3',\n",
       " '11/01/13',\n",
       " 'Utilization of Classroom and Teaching Laboratories (pdf)',\n",
       " '4',\n",
       " '11/01/13',\n",
       " 'Instruction and Research Space Summary & Analysis (pdf)',\n",
       " '5',\n",
       " '11/15/13',\n",
       " 'Statewide Energy Partnership Program (pdf)',\n",
       " '6',\n",
       " '11/30/13',\n",
       " '2013-23 Capital Financial Plan (pdf)',\n",
       " '7',\n",
       " '11/30/13',\n",
       " 'Projects Savings Funded from Capital Outlay Bond Funds (pdf)',\n",
       " '8',\n",
       " '12/01/13',\n",
       " 'Streamlined Capital Projects Funded from Capital (pdf)',\n",
       " '9',\n",
       " '01/01/14',\n",
       " 'Annual General Obligation Bonds Accountability (pdf)',\n",
       " '10',\n",
       " '01/01/14',\n",
       " 'Small Business Utilization (pdf)',\n",
       " '11',\n",
       " '01/01/14',\n",
       " 'Institutional Financial Aid Programs - Preliminary report (pdf)',\n",
       " '12',\n",
       " '01/10/14',\n",
       " 'Summer Enrollment (pdf)',\n",
       " '13',\n",
       " '01/15/14',\n",
       " 'Contracting Out for Services at Newly Developed Facilities (pdf)',\n",
       " '14',\n",
       " '03/01/14',\n",
       " 'Performance Measures (pdf)',\n",
       " '15',\n",
       " '03/01/14',\n",
       " 'Entry Level Writing Requirement (pdf)',\n",
       " '16',\n",
       " '03/31/14',\n",
       " 'Annual Report on Student\\xa0Financial Support (pdf)',\n",
       " '17',\n",
       " '04/01/14',\n",
       " 'Unique Statewide Pupil Identifier (pdf)',\n",
       " '18',\n",
       " '04/01/14',\n",
       " 'Riverside School of Medicine (pdf)',\n",
       " '19',\n",
       " '04/01/14',\n",
       " 'SAPEP Funds and Outcomes - N/A',\n",
       " '20',\n",
       " '05/15/14',\n",
       " 'Receipt and Use of Lottery Funds (pdf)',\n",
       " '21',\n",
       " '07/01/14',\n",
       " 'Cogeneration and Energy Consv Major Capital Projects (pdf)',\n",
       " '\\n',\n",
       " '\\n',\n",
       " '\\n',\n",
       " '\\xa0',\n",
       " 'Future Reports',\n",
       " '\\n',\n",
       " '24',\n",
       " '12-',\n",
       " 'Breast Cancer Research Fund',\n",
       " '25',\n",
       " '12-31-15',\n",
       " 'Cigarette and Tobacco Products Surtax Research Program',\n",
       " '26',\n",
       " '01-01-16',\n",
       " 'Best Value Program',\n",
       " '27',\n",
       " '01-01-16',\n",
       " 'California Subject Matter Programs',\n",
       " '28',\n",
       " '04-01-16',\n",
       " 'COSMOS Program Outcomes']"
      ]
     },
     "execution_count": 10,
     "metadata": {},
     "output_type": "execute_result"
    }
   ],
   "source": [
    "data"
   ]
  },
  {
   "cell_type": "markdown",
   "metadata": {},
   "source": [
    "pdfがある行だけ抜き出すことにしましょう。¥xa0はエラーなので、空白に置き換えます。"
   ]
  },
  {
   "cell_type": "code",
   "execution_count": 9,
   "metadata": {},
   "outputs": [],
   "source": [
    "reports = []\n",
    "date = []\n",
    "\n",
    "# 行を保持する変数を用意します。\n",
    "index = 0\n",
    "\n",
    "# pdfの文字列があるcellを見つけだします。\n",
    "for item in data:\n",
    "    if 'pdf' in item:\n",
    "        # 1つもどって、日付を格納します。\n",
    "        date.append(data[index-1])\n",
    "        \n",
    "        # \\xa0 を取り除いておきましょう。\n",
    "        reports.append(item.replace(u'\\xa0', u' '))\n",
    "                    \n",
    "    index += 1"
   ]
  },
  {
   "cell_type": "markdown",
   "metadata": {},
   "source": [
    "'\\xa0 'はユニコードのエラーなのですが、Webページは必ずしも綺麗に整形されているデータではありませんので、このように予期せぬ出来事が頻発します。その都度、調べて解決していけば、きっとスキルが上がります。\n"
   ]
  },
  {
   "cell_type": "markdown",
   "metadata": {},
   "source": [
    "あとはデータをpandasのDataFrameにするだけです。"
   ]
  },
  {
   "cell_type": "code",
   "execution_count": 10,
   "metadata": {},
   "outputs": [],
   "source": [
    "# まずはそれぞれをSeriesにします。\n",
    "date = Series(date)\n",
    "reports = Series(reports)"
   ]
  },
  {
   "cell_type": "code",
   "execution_count": 14,
   "metadata": {},
   "outputs": [],
   "source": [
    "# 連結してDataFrameにします。\n",
    "legislative_df = pd.concat([date,reports],axis=1)"
   ]
  },
  {
   "cell_type": "code",
   "execution_count": 15,
   "metadata": {},
   "outputs": [],
   "source": [
    "# 列名を付けて置きましょう。\n",
    "legislative_df.columns = ['Date','Reports']"
   ]
  },
  {
   "cell_type": "code",
   "execution_count": 16,
   "metadata": {},
   "outputs": [
    {
     "data": {
      "text/html": [
       "<div>\n",
       "<style>\n",
       "    .dataframe thead tr:only-child th {\n",
       "        text-align: right;\n",
       "    }\n",
       "\n",
       "    .dataframe thead th {\n",
       "        text-align: left;\n",
       "    }\n",
       "\n",
       "    .dataframe tbody tr th {\n",
       "        vertical-align: top;\n",
       "    }\n",
       "</style>\n",
       "<table border=\"1\" class=\"dataframe\">\n",
       "  <thead>\n",
       "    <tr style=\"text-align: right;\">\n",
       "      <th></th>\n",
       "      <th>Date</th>\n",
       "      <th>Reports</th>\n",
       "    </tr>\n",
       "  </thead>\n",
       "  <tbody>\n",
       "    <tr>\n",
       "      <th>0</th>\n",
       "      <td>08/01/13</td>\n",
       "      <td>2013-14 (EDU 92495) Proposed Capital Outlay Pr...</td>\n",
       "    </tr>\n",
       "    <tr>\n",
       "      <th>1</th>\n",
       "      <td>09/01/13</td>\n",
       "      <td>2014-15  (EDU 92495) Proposed Capital Outlay P...</td>\n",
       "    </tr>\n",
       "    <tr>\n",
       "      <th>2</th>\n",
       "      <td>11/01/13</td>\n",
       "      <td>Utilization of Classroom and Teaching Laborato...</td>\n",
       "    </tr>\n",
       "    <tr>\n",
       "      <th>3</th>\n",
       "      <td>11/01/13</td>\n",
       "      <td>Instruction and Research Space Summary &amp; Analy...</td>\n",
       "    </tr>\n",
       "    <tr>\n",
       "      <th>4</th>\n",
       "      <td>11/15/13</td>\n",
       "      <td>Statewide Energy Partnership Program (pdf)</td>\n",
       "    </tr>\n",
       "    <tr>\n",
       "      <th>5</th>\n",
       "      <td>11/30/13</td>\n",
       "      <td>2013-23 Capital Financial Plan (pdf)</td>\n",
       "    </tr>\n",
       "    <tr>\n",
       "      <th>6</th>\n",
       "      <td>11/30/13</td>\n",
       "      <td>Projects Savings Funded from Capital Outlay Bo...</td>\n",
       "    </tr>\n",
       "    <tr>\n",
       "      <th>7</th>\n",
       "      <td>12/01/13</td>\n",
       "      <td>Streamlined Capital Projects Funded from Capit...</td>\n",
       "    </tr>\n",
       "    <tr>\n",
       "      <th>8</th>\n",
       "      <td>01/01/14</td>\n",
       "      <td>Annual General Obligation Bonds Accountability...</td>\n",
       "    </tr>\n",
       "    <tr>\n",
       "      <th>9</th>\n",
       "      <td>01/01/14</td>\n",
       "      <td>Small Business Utilization (pdf)</td>\n",
       "    </tr>\n",
       "    <tr>\n",
       "      <th>10</th>\n",
       "      <td>01/01/14</td>\n",
       "      <td>Institutional Financial Aid Programs - Prelimi...</td>\n",
       "    </tr>\n",
       "    <tr>\n",
       "      <th>11</th>\n",
       "      <td>01/10/14</td>\n",
       "      <td>Summer Enrollment (pdf)</td>\n",
       "    </tr>\n",
       "    <tr>\n",
       "      <th>12</th>\n",
       "      <td>01/15/14</td>\n",
       "      <td>Contracting Out for Services at Newly Develope...</td>\n",
       "    </tr>\n",
       "    <tr>\n",
       "      <th>13</th>\n",
       "      <td>03/01/14</td>\n",
       "      <td>Performance Measures (pdf)</td>\n",
       "    </tr>\n",
       "    <tr>\n",
       "      <th>14</th>\n",
       "      <td>03/01/14</td>\n",
       "      <td>Entry Level Writing Requirement (pdf)</td>\n",
       "    </tr>\n",
       "    <tr>\n",
       "      <th>15</th>\n",
       "      <td>03/31/14</td>\n",
       "      <td>Annual Report on Student Financial Support (pdf)</td>\n",
       "    </tr>\n",
       "    <tr>\n",
       "      <th>16</th>\n",
       "      <td>04/01/14</td>\n",
       "      <td>Unique Statewide Pupil Identifier (pdf)</td>\n",
       "    </tr>\n",
       "    <tr>\n",
       "      <th>17</th>\n",
       "      <td>04/01/14</td>\n",
       "      <td>Riverside School of Medicine (pdf)</td>\n",
       "    </tr>\n",
       "    <tr>\n",
       "      <th>18</th>\n",
       "      <td>05/15/14</td>\n",
       "      <td>Receipt and Use of Lottery Funds (pdf)</td>\n",
       "    </tr>\n",
       "    <tr>\n",
       "      <th>19</th>\n",
       "      <td>07/01/14</td>\n",
       "      <td>Cogeneration and Energy Consv Major Capital Pr...</td>\n",
       "    </tr>\n",
       "  </tbody>\n",
       "</table>\n",
       "</div>"
      ],
      "text/plain": [
       "        Date                                            Reports\n",
       "0   08/01/13  2013-14 (EDU 92495) Proposed Capital Outlay Pr...\n",
       "1   09/01/13  2014-15  (EDU 92495) Proposed Capital Outlay P...\n",
       "2   11/01/13  Utilization of Classroom and Teaching Laborato...\n",
       "3   11/01/13  Instruction and Research Space Summary & Analy...\n",
       "4   11/15/13         Statewide Energy Partnership Program (pdf)\n",
       "5   11/30/13               2013-23 Capital Financial Plan (pdf)\n",
       "6   11/30/13  Projects Savings Funded from Capital Outlay Bo...\n",
       "7   12/01/13  Streamlined Capital Projects Funded from Capit...\n",
       "8   01/01/14  Annual General Obligation Bonds Accountability...\n",
       "9   01/01/14                   Small Business Utilization (pdf)\n",
       "10  01/01/14  Institutional Financial Aid Programs - Prelimi...\n",
       "11  01/10/14                            Summer Enrollment (pdf)\n",
       "12  01/15/14  Contracting Out for Services at Newly Develope...\n",
       "13  03/01/14                         Performance Measures (pdf)\n",
       "14  03/01/14              Entry Level Writing Requirement (pdf)\n",
       "15  03/31/14   Annual Report on Student Financial Support (pdf)\n",
       "16  04/01/14            Unique Statewide Pupil Identifier (pdf)\n",
       "17  04/01/14                 Riverside School of Medicine (pdf)\n",
       "18  05/15/14             Receipt and Use of Lottery Funds (pdf)\n",
       "19  07/01/14  Cogeneration and Energy Consv Major Capital Pr..."
      ]
     },
     "execution_count": 16,
     "metadata": {},
     "output_type": "execute_result"
    }
   ],
   "source": [
    "# 完成です。\n",
    "legislative_df"
   ]
  },
  {
   "cell_type": "markdown",
   "metadata": {
    "collapsed": true
   },
   "source": [
    "Webスクレイピングは楽しいですが、面倒です。\n",
    "\n",
    "これを生業にしている企業もあるようです。ご興味があれば、チェックしてみてください。\n",
    "\n",
    "https://import.io/\n",
    "\n",
    "https://www.kimonolabs.com/\n"
   ]
  }
 ],
 "metadata": {
  "kernelspec": {
   "display_name": "Python 3",
   "language": "python",
   "name": "python3"
  },
  "language_info": {
   "codemirror_mode": {
    "name": "ipython",
    "version": 3
   },
   "file_extension": ".py",
   "mimetype": "text/x-python",
   "name": "python",
   "nbconvert_exporter": "python",
   "pygments_lexer": "ipython3",
   "version": "3.6.3"
  }
 },
 "nbformat": 4,
 "nbformat_minor": 1
}
