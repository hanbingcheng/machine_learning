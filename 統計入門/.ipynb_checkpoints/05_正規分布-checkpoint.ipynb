{
 "cells": [
  {
   "cell_type": "markdown",
   "metadata": {
    "collapsed": true
   },
   "source": [
    "#### 正規分布とは？"
   ]
  },
  {
   "cell_type": "markdown",
   "metadata": {},
   "source": [
    "正規分布の確率密度関数は次の式で定義されます。"
   ]
  },
  {
   "cell_type": "markdown",
   "metadata": {},
   "source": [
    "## $$  f(x | \\mu,\\sigma) = \\frac{1}{\\sigma\\sqrt{2\\pi}}e^{-\\frac{(x-\\mu)^2}{2\\sigma^2}} $$"
   ]
  },
  {
   "cell_type": "markdown",
   "metadata": {},
   "source": [
    "μは平均、σは標準偏差です。円周率π=3.14... と自然対数の底 e=2.718... は定数です。\n",
    "確率の総和は1です。X=aとX=b（a<b）の間に挟まれた領域は、Xがaとbのあいだになる確率を意味していて、これを次のように書きます。$Pr(a<X<b)$"
   ]
  },
  {
   "cell_type": "markdown",
   "metadata": {
    "collapsed": true
   },
   "source": [
    "----------"
   ]
  },
  {
   "cell_type": "markdown",
   "metadata": {},
   "source": [
    "分布の形を見て、正規分布の主な特徴を確認していきましょう。\n",
    "\n",
    "    1.) 左右に裾野を持ちます。\n",
    "    2.) 曲線は左右対称です。\n",
    "    3.) ピークは平均の値です。\n",
    "    4.) 標準偏差が曲線の形を特徴付けます。\n",
    "        - 背が高い分布は、小さな標準偏差のときです。\n",
    "        - 太った分布は、大きな標準偏差のときです。\n",
    "    5.) 曲線のしたの面積（AUC: area under the curve）は1です。\n",
    "    6.) 平均値、中央値、最頻値（mode）がすべて同じです。\n",
    "    "
   ]
  },
  {
   "cell_type": "markdown",
   "metadata": {},
   "source": [
    "平均が0、標準偏差が1の標準正規分布では、±1標準偏差に68%、±2標準偏差に95%が含まれ、±3標準偏差までには、全体の99.7%が含まれます。この1,2,3といった数字をz-scoreと呼ぶこともあります。"
   ]
  },
  {
   "cell_type": "code",
   "execution_count": 1,
   "metadata": {},
   "outputs": [
    {
     "data": {
      "text/html": [
       "<img src=\"http://upload.wikimedia.org/wikipedia/commons/thumb/2/25/The_Normal_Distribution.svg/725px-The_Normal_Distribution.svg.png\"/>"
      ],
      "text/plain": [
       "<IPython.core.display.Image object>"
      ]
     },
     "execution_count": 1,
     "metadata": {},
     "output_type": "execute_result"
    }
   ],
   "source": [
    "from IPython.display import Image\n",
    "Image(url='http://upload.wikimedia.org/wikipedia/commons/thumb/2/25/The_Normal_Distribution.svg/725px-The_Normal_Distribution.svg.png')"
   ]
  },
  {
   "cell_type": "markdown",
   "metadata": {},
   "source": [
    "scipyを使って、正規分布を作ってみましょう。"
   ]
  },
  {
   "cell_type": "code",
   "execution_count": 3,
   "metadata": {},
   "outputs": [
    {
     "data": {
      "text/plain": [
       "[<matplotlib.lines.Line2D at 0x107a27fd0>]"
      ]
     },
     "execution_count": 3,
     "metadata": {},
     "output_type": "execute_result"
    },
    {
     "data": {
      "image/png": "[encoded data removed]",
      "text/plain": [
       "<matplotlib.figure.Figure at 0x1065e57f0>"
      ]
     },
     "metadata": {},
     "output_type": "display_data"
    }
   ],
   "source": [
    "import matplotlib as mpl\n",
    "import matplotlib.pyplot as plt\n",
    "import numpy as np\n",
    "%matplotlib inline\n",
    "\n",
    "# statsライブラリをImportします。\n",
    "from scipy import stats\n",
    "\n",
    "# 平均を0\n",
    "mean = 0\n",
    "\n",
    "# 標準偏差を1にしてみましょう。\n",
    "std = 1\n",
    "\n",
    "# 便宜的に領域を決めます。\n",
    "X = np.arange(-4,4,0.01)\n",
    "\n",
    "# 値を計算します。\n",
    "Y = stats.norm.pdf(X,mean,std)\n",
    "\n",
    "plt.plot(X,Y)"
   ]
  },
  {
   "cell_type": "markdown",
   "metadata": {},
   "source": [
    "numpyを使っても正規分布を作れます。"
   ]
  },
  {
   "cell_type": "code",
   "execution_count": 4,
   "metadata": {},
   "outputs": [],
   "source": [
    "import numpy as np\n",
    "\n",
    "mu,sigma = 0,0.1\n",
    "\n",
    "# 正規分布に従う乱数を1000個生成します。\n",
    "norm_set = np.random.normal(mu,sigma,1000)"
   ]
  },
  {
   "cell_type": "code",
   "execution_count": 5,
   "metadata": {},
   "outputs": [
    {
     "data": {
      "text/plain": [
       "(array([  1.,   0.,   1.,   2.,   1.,   2.,   3.,   2.,   2.,   8.,   6.,\n",
       "         10.,   9.,  12.,  10.,  20.,  15.,  39.,  36.,  34.,  38.,  39.,\n",
       "         60.,  43.,  40.,  43.,  50.,  53.,  55.,  48.,  35.,  42.,  34.,\n",
       "         27.,  34.,  17.,  32.,  22.,  18.,  15.,  14.,   7.,   8.,   4.,\n",
       "          2.,   2.,   1.,   2.,   1.,   1.]),\n",
       " array([-0.33932573, -0.32644812, -0.3135705 , -0.30069288, -0.28781526,\n",
       "        -0.27493765, -0.26206003, -0.24918241, -0.2363048 , -0.22342718,\n",
       "        -0.21054956, -0.19767195, -0.18479433, -0.17191671, -0.15903909,\n",
       "        -0.14616148, -0.13328386, -0.12040624, -0.10752863, -0.09465101,\n",
       "        -0.08177339, -0.06889577, -0.05601816, -0.04314054, -0.03026292,\n",
       "        -0.01738531, -0.00450769,  0.00836993,  0.02124754,  0.03412516,\n",
       "         0.04700278,  0.0598804 ,  0.07275801,  0.08563563,  0.09851325,\n",
       "         0.11139086,  0.12426848,  0.1371461 ,  0.15002371,  0.16290133,\n",
       "         0.17577895,  0.18865657,  0.20153418,  0.2144118 ,  0.22728942,\n",
       "         0.24016703,  0.25304465,  0.26592227,  0.27879988,  0.2916775 ,\n",
       "         0.30455512]),\n",
       " <a list of 50 Patch objects>)"
      ]
     },
     "execution_count": 5,
     "metadata": {},
     "output_type": "execute_result"
    },
    {
     "data": {
      "image/png": "[encoded data removed]",
      "text/plain": [
       "<matplotlib.figure.Figure at 0x1079c6390>"
      ]
     },
     "metadata": {},
     "output_type": "display_data"
    }
   ],
   "source": [
    "# seabornを使ってプロットしてみましょう。\n",
    "import seaborn as sns\n",
    "\n",
    "plt.hist(norm_set,bins=50)"
   ]
  },
  {
   "cell_type": "markdown",
   "metadata": {
    "collapsed": true
   },
   "source": [
    "正規分布は非常に重要な分布なので、多くの情報があります。ここでの導入は、最初の1歩にすぎませんので、是非いろいろと調べてみてください。\n",
    "\n",
    "1.) https://ja.wikipedia.org/wiki/%E6%AD%A3%E8%A6%8F%E5%88%86%E5%B8%83\n",
    "\n",
    "2.) http://mathworld.wolfram.com/NormalDistribution.html\n",
    "\n",
    "3.) http://stattrek.com/probability-distributions/normal.aspx"
   ]
  }
 ],
 "metadata": {
  "kernelspec": {
   "display_name": "Python 3",
   "language": "python",
   "name": "python3"
  },
  "language_info": {
   "codemirror_mode": {
    "name": "ipython",
    "version": 3
   },
   "file_extension": ".py",
   "mimetype": "text/x-python",
   "name": "python",
   "nbconvert_exporter": "python",
   "pygments_lexer": "ipython3",
   "version": "3.6.3"
  }
 },
 "nbformat": 4,
 "nbformat_minor": 1
}
