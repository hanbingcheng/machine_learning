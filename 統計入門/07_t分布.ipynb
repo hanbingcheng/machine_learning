{
 "cells": [
  {
   "cell_type": "markdown",
   "metadata": {},
   "source": [
    "#### t分布とは？\n",
    "（正規分布のレクチャーを先に見ることをおすすめします）"
   ]
  },
  {
   "cell_type": "markdown",
   "metadata": {},
   "source": [
    "確率変数$x$が、平均$\\mu$、標準偏差$\\sigma$の正規分布に従うとき、$x$の$N$個の平均$\\overline{X}$は、平均$\\mu$、標準偏差$\\frac{\\sigma}{\\sqrt{N}}$の正規分布に従います。これは、以下の様な新しい変数$z$を導入して、"
   ]
  },
  {
   "cell_type": "markdown",
   "metadata": {},
   "source": [
    "$$z=\\frac{\\overline{X}-\\mu}{\\sigma/\\sqrt{N}}$$"
   ]
  },
  {
   "cell_type": "markdown",
   "metadata": {},
   "source": [
    "$z$が標準正規分布（平均0、標準偏差1）に従うと言い換えることが出来ます。"
   ]
  },
  {
   "cell_type": "markdown",
   "metadata": {},
   "source": [
    "しかし、母集団の平均$\\mu$や標準偏差$\\sigma$が分かっていることは稀なので、実際には、これらを推定量で代用します。平均値はそのまま計算すれば良いですが、分散の不偏推定量は、以下の式で求められます。$$\\hat{\\sigma}^{2} = \\frac{1}{N-1}\\sum_{i=1}^{N}(x_{i}-\\overline{X})^{2}$$"
   ]
  },
  {
   "cell_type": "markdown",
   "metadata": {},
   "source": [
    "ここで、あらたな変数$t$を導入してみます\n",
    "\n",
    "$$t=\\frac{\\overline{X}-\\mu}{\\hat{\\sigma}/\\sqrt{N}}$$"
   ]
  },
  {
   "cell_type": "markdown",
   "metadata": {},
   "source": [
    "先ほどの$z$とよく似ていますが、このtは特にNが小さい（一般的には30未満）とき正規分布に従いません。では、どんな分布に従うかというと、$\\nu=N-1$として、以下の様な分布に従います。"
   ]
  },
  {
   "cell_type": "markdown",
   "metadata": {
    "collapsed": true
   },
   "source": [
    "## $$  f(t) = \\frac {\\varGamma(\\frac{v+1}{2})}{\\sqrt{v\\pi}\\varGamma(\\frac{v}{2})} (1+\\frac{t^2}{v})^{-\\frac{v+1}{2}}$$"
   ]
  },
  {
   "cell_type": "markdown",
   "metadata": {},
   "source": [
    "ただし: $$\\varGamma(n)=(n-1)!$$\n",
    "これはガンマ関数と呼ばれる関数です。"
   ]
  },
  {
   "cell_type": "markdown",
   "metadata": {},
   "source": [
    "$N$が大きくなると、この分布は正規分布に漸近します。ですから、t分布はNが小さいときに、標本の平均が従う分布と考えることができます。\n",
    "$\\nu$は、t分布の自由度と呼ばれ、この値が決まれば分布が決まります。また、発見者ゴセットの最初の論文のペンネームから、スチューデント分布とよばれることもあります。"
   ]
  },
  {
   "cell_type": "markdown",
   "metadata": {},
   "source": [
    "Pythonでt分布を扱ってみましょう。"
   ]
  },
  {
   "cell_type": "code",
   "execution_count": 1,
   "metadata": {},
   "outputs": [
    {
     "data": {
      "text/plain": [
       "[<matplotlib.lines.Line2D at 0x107ab0be0>]"
      ]
     },
     "execution_count": 1,
     "metadata": {},
     "output_type": "execute_result"
    },
    {
     "data": {
      "image/png": "[encoded data removed]",
      "text/plain": [
       "<matplotlib.figure.Figure at 0x103c3ef60>"
      ]
     },
     "metadata": {},
     "output_type": "display_data"
    }
   ],
   "source": [
    "import matplotlib.pyplot as plt\n",
    "%matplotlib inline\n",
    "\n",
    "# scipy.statsの中にt分布があります。\n",
    "from scipy.stats import t\n",
    "\n",
    "import numpy as np\n",
    "\n",
    "# x軸の数字を用意します。\n",
    "x = np.linspace(-5,5,100)\n",
    "\n",
    "# 自由度3のt分布\n",
    "rv = t(3)\n",
    "\n",
    "# 確率密度関数（PDF）を書きます。\n",
    "plt.plot(x, rv.pdf(x))"
   ]
  },
  {
   "cell_type": "markdown",
   "metadata": {},
   "source": [
    "以下のサイトも参考になります。\n",
    "\n",
    "1.) https://ja.wikipedia.org/wiki/T%E5%88%86%E5%B8%83\n",
    "\n",
    "2.) http://www012.upp.so-net.ne.jp/doi/biostat/CT39/distribution.pdf\n",
    "\n",
    "(英語）\n",
    "3.) https://en.wikipedia.org/wiki/Student%27s_t-distribution"
   ]
  }
 ],
 "metadata": {
  "kernelspec": {
   "display_name": "Python 3",
   "language": "python",
   "name": "python3"
  },
  "language_info": {
   "codemirror_mode": {
    "name": "ipython",
    "version": 3
   },
   "file_extension": ".py",
   "mimetype": "text/x-python",
   "name": "python",
   "nbconvert_exporter": "python",
   "pygments_lexer": "ipython3",
   "version": "3.6.3"
  }
 },
 "nbformat": 4,
 "nbformat_minor": 1
}
