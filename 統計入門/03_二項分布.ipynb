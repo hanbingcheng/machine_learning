{
 "cells": [
  {
   "cell_type": "markdown",
   "metadata": {},
   "source": [
    "### 二項分布（Binomial distribution）は離散分布の一種です"
   ]
  },
  {
   "cell_type": "markdown",
   "metadata": {},
   "source": [
    "まずは例題"
   ]
  },
  {
   "cell_type": "markdown",
   "metadata": {},
   "source": [
    "プレイヤーAとプレイヤーBの2人が、バスケットボールをします。Aは1ゲームで平均11回シュートをして、平均的な成功率は72％です。一方、Bは15回シュートをしますが、平均的に48%しか決まりません。\n",
    "\n",
    "問1: プレイヤーAが平均的な1試合で6回シュートを決める確率は？\n",
    "\n",
    "問2: おなじく、プレイヤーBが1試合で6回シュートを決める確率は？"
   ]
  },
  {
   "cell_type": "markdown",
   "metadata": {},
   "source": [
    "以下の条件が満たされれば、この問題を二項分布を使って考える事ができます。\n",
    "    \n",
    "    1.) 全体がn回の連続した試行からなる\n",
    "    2.) それぞれの試行は、相互に排他的な2つの事象からなる（例えば成功と失敗）\n",
    "    3.) 成功の確率がpならば、失敗の確率は1-p\n",
    "    4.) それぞれの試行は独立\n",
    "    \n"
   ]
  },
  {
   "cell_type": "markdown",
   "metadata": {},
   "source": [
    "二項分布の確率質量関数は、以下のようになります。"
   ]
  },
  {
   "cell_type": "markdown",
   "metadata": {},
   "source": [
    "$$Pr(X=k)=C(n,k)p^k (1-p)^{n-k}$$"
   ]
  },
  {
   "cell_type": "markdown",
   "metadata": {},
   "source": [
    "nは試行の回数、kは成功の数、pは成功の確率、1-pは失敗の確率ですが、しばしばqと書かれます。"
   ]
  },
  {
   "cell_type": "markdown",
   "metadata": {},
   "source": [
    "n回試行して、k回成功する確率は、$$p^k$$ \n",
    "また、n-k回失敗する確率は$$(1-p)^{n-k}$$\n",
    "n回の試行で、k回の成功がどこにくるかわかりませんが、この並べ方は $$C(n,k)$$ 通りあります。\n",
    "これらをすべて掛け合わせれば、n回中k回成功する確率が求まるわけです。"
   ]
  },
  {
   "cell_type": "markdown",
   "metadata": {},
   "source": [
    "--------------------------------------------------------------------------------------------------------------------------------"
   ]
  },
  {
   "cell_type": "markdown",
   "metadata": {},
   "source": [
    "C(n,k) は組み合わせです。実際の計算は次のような式で表現できます。\n",
    "\n",
    "$$C(n,k) =  \\frac{n!}{k!(n-k)!}$$"
   ]
  },
  {
   "cell_type": "markdown",
   "metadata": {},
   "source": [
    "### 例題を解いてみましょう"
   ]
  },
  {
   "cell_type": "code",
   "execution_count": 20,
   "metadata": {},
   "outputs": [
    {
     "name": "stdout",
     "output_type": "stream",
     "text": [
      "プレイヤーAが平均的な試合で6回シュートを決める確率は11.08% \n",
      "\n",
      "プレイヤーBが平均的な試合で6回シュートを決める確率は17.02%\n"
     ]
    }
   ],
   "source": [
    "# Aの成功率\n",
    "p_A = .72\n",
    "# シュートの数\n",
    "n_A = 11\n",
    "\n",
    "# 成功数\n",
    "k = 6\n",
    "\n",
    "# 組み合わせを求めるため\n",
    "import scipy.misc as sc\n",
    "\n",
    "comb_A = sc.comb(n_A,k)\n",
    "\n",
    "# これらを掛け合わせれば、確率がでます。\n",
    "answer_A = comb_A * (p_A**k) * ((1-p_A)**(n_A-k))\n",
    "\n",
    "# パーセントで結果を格納しておきます。\n",
    "answer_A = 100*answer_A\n",
    "\n",
    "# Bも同様の計算ができます。\n",
    "p_B = .48\n",
    "n_B = 15\n",
    "comb_B = sc.comb(n_B,k)\n",
    "answer_B = 100 * comb_B * (p_B**k) * ((1-p_B)**(n_B-k))\n",
    "\n",
    "print('プレイヤーAが平均的な試合で6回シュートを決める確率は{:0.2f}% '.format(answer_A))\n",
    "print('')\n",
    "print('プレイヤーBが平均的な試合で6回シュートを決める確率は{:0.2f}%'.format(answer_B))"
   ]
  },
  {
   "cell_type": "markdown",
   "metadata": {},
   "source": [
    "下手なシュートも数打ちゃあたる、ようにみえます。"
   ]
  },
  {
   "cell_type": "markdown",
   "metadata": {},
   "source": [
    "では次に、9回決める確率を計算してみましょう。"
   ]
  },
  {
   "cell_type": "code",
   "execution_count": 21,
   "metadata": {},
   "outputs": [
    {
     "name": "stdout",
     "output_type": "stream",
     "text": [
      "プレイヤーAが平均的な試合で9回シュートを決める確率は22.42% \n",
      "\n",
      "プレイヤーBが平均的な試合で9回シュートを決める確率は13.38%\n"
     ]
    }
   ],
   "source": [
    "# 9回決めなければなりません。\n",
    "k = 9\n",
    "\n",
    "comb_A = sc.comb(n_A,k)\n",
    "comb_B = sc.comb(n_B,k)\n",
    "\n",
    "# 掛け合わせます。\n",
    "answer_A = 100 * comb_A * (p_A**k) * ((1-p_A)**(n_A-k))\n",
    "answer_B = 100 * comb_B * (p_B**k) * ((1-p_B)**(n_B-k))\n",
    "\n",
    "print('プレイヤーAが平均的な試合で9回シュートを決める確率は{:0.2f}% '.format(answer_A))\n",
    "print('')\n",
    "print('プレイヤーBが平均的な試合で9回シュートを決める確率は{:0.2f}%'.format(answer_B))"
   ]
  },
  {
   "cell_type": "markdown",
   "metadata": {},
   "source": [
    "9回決める確率が高いのは、やはり上手なAのほうです。\n",
    "ここで注意しなければいけないのは、いま考えて居るのは、9回決める確率であって、少なくとも9回決める確率ではないということです。"
   ]
  },
  {
   "cell_type": "markdown",
   "metadata": {},
   "source": [
    "#### 平均と分散"
   ]
  },
  {
   "cell_type": "markdown",
   "metadata": {},
   "source": [
    "二項分布の平均は単純です。 $$\\mu=n*p$$"
   ]
  },
  {
   "cell_type": "markdown",
   "metadata": {},
   "source": [
    "これは直感的にもわかりやすいでしょう。平均的な成功率と試行の回数を掛ければ平均的な成功の回数になります。"
   ]
  },
  {
   "cell_type": "markdown",
   "metadata": {},
   "source": [
    "標準偏差（分散の平方根）は次の式で求められます。$$\\sigma=\\sqrt{n*q*p}$$"
   ]
  },
  {
   "cell_type": "markdown",
   "metadata": {},
   "source": [
    "シュートが決まる回数の平均と、+/- 標準偏差を計算できます。"
   ]
  },
  {
   "cell_type": "code",
   "execution_count": 22,
   "metadata": {},
   "outputs": [
    {
     "name": "stdout",
     "output_type": "stream",
     "text": [
      "プレイヤーAは1試合で、平均7.9回±1.5シュートを決めます。\n",
      "\n",
      "\n",
      "プレイヤーBは1試合で、平均7.2回±1.9シュートを決めます。\n"
     ]
    }
   ],
   "source": [
    "# 平均値です。\n",
    "mu_A = n_A *p_A\n",
    "mu_B = n_B *p_B\n",
    "\n",
    "# 標準偏差を計算しましょう。\n",
    "sigma_A = ( n_A *p_A*(1-p_A) )**0.5\n",
    "sigma_B = ( n_B *p_B*(1-p_B) )**0.5\n",
    "\n",
    "print('プレイヤーAは1試合で、平均{:0.1f}回±{:0.1f}シュートを決めます。'.format(mu_A,sigma_A))\n",
    "print('\\n')\n",
    "print('プレイヤーBは1試合で、平均{:0.1f}回±{:0.1f}シュートを決めます。'.format(mu_B,sigma_B))"
   ]
  },
  {
   "cell_type": "markdown",
   "metadata": {},
   "source": [
    "#### scipyを利用できます"
   ]
  },
  {
   "cell_type": "code",
   "execution_count": 12,
   "metadata": {},
   "outputs": [
    {
     "name": "stdout",
     "output_type": "stream",
     "text": [
      "7.92\n",
      "1.48916083752\n"
     ]
    }
   ],
   "source": [
    "from scipy.stats import binom\n",
    "\n",
    "mean,var= binom.stats(n_A,p_A)\n",
    "\n",
    "print(mean)\n",
    "print(var**0.5)"
   ]
  },
  {
   "cell_type": "markdown",
   "metadata": {},
   "source": [
    "#### 確率質量関数も求められます"
   ]
  },
  {
   "cell_type": "markdown",
   "metadata": {},
   "source": [
    "コインを10回投げて裏と表を出すことを考えてみましょう。"
   ]
  },
  {
   "cell_type": "code",
   "execution_count": 15,
   "metadata": {},
   "outputs": [
    {
     "data": {
      "text/plain": [
       "array([ 0.00097656,  0.00976563,  0.04394531,  0.1171875 ,  0.20507813,\n",
       "        0.24609375,  0.20507813,  0.1171875 ,  0.04394531,  0.00976563,\n",
       "        0.00097656])"
      ]
     },
     "execution_count": 15,
     "metadata": {},
     "output_type": "execute_result"
    }
   ],
   "source": [
    "import numpy as np\n",
    "\n",
    "# 10回と、表の確率0.5をセットします。\n",
    "n=10\n",
    "p=0.5\n",
    "\n",
    "x = range(n+1)\n",
    "\n",
    "# 二項分布の確率質量関数をから、実際の確率を計算できます。\n",
    "Y = binom.pmf(x,n,p)\n",
    "\n",
    "Y"
   ]
  },
  {
   "cell_type": "code",
   "execution_count": 18,
   "metadata": {},
   "outputs": [
    {
     "data": {
      "text/plain": [
       "<matplotlib.text.Text at 0x107a4a860>"
      ]
     },
     "execution_count": 18,
     "metadata": {},
     "output_type": "execute_result"
    },
    {
     "data": {
      "image/png": "[encoded data removed]",
      "text/plain": [
       "<matplotlib.figure.Figure at 0x107c42128>"
      ]
     },
     "metadata": {},
     "output_type": "display_data"
    }
   ],
   "source": [
    "import matplotlib.pyplot as plt\n",
    "%matplotlib inline\n",
    "\n",
    "# プロットします。\n",
    "plt.plot(x,Y,'o')\n",
    "\n",
    "# y=1.08はタイトルが少し上に行くようにするためです。\n",
    "plt.title('Binomial Distribution PMF: 10 coin Flips, Odds of Success for Heads is p=0.5',y=1.08)\n",
    "\n",
    "#軸にもタイトルが付けられます。\n",
    "plt.xlabel('Number of Heads')\n",
    "plt.ylabel('Probability')"
   ]
  },
  {
   "cell_type": "markdown",
   "metadata": {},
   "source": [
    "2,3は英語ですが、Web上にも情報がありますので、参考にしてみてください。\n",
    "\n",
    "1.) https://ja.wikipedia.org/wiki/%E4%BA%8C%E9%A0%85%E5%88%86%E5%B8%83\n",
    "\n",
    "2.) http://stattrek.com/probability-distributions/binomial.aspx\n",
    "\n",
    "3.) http://mathworld.wolfram.com/BinomialDistribution.html"
   ]
  }
 ],
 "metadata": {
  "kernelspec": {
   "display_name": "Python 3",
   "language": "python",
   "name": "python3"
  },
  "language_info": {
   "codemirror_mode": {
    "name": "ipython",
    "version": 3
   },
   "file_extension": ".py",
   "mimetype": "text/x-python",
   "name": "python",
   "nbconvert_exporter": "python",
   "pygments_lexer": "ipython3",
   "version": "3.6.3"
  }
 },
 "nbformat": 4,
 "nbformat_minor": 1
}
